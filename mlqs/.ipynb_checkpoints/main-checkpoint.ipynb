{
 "cells": [
  {
   "cell_type": "code",
   "execution_count": 12,
   "id": "41b1d667-e48b-4247-aee4-bd7c864b4887",
   "metadata": {},
   "outputs": [],
   "source": [
    "import numpy as np\n",
    "import pandas as pd\n",
    "from sklearn.mixture import GaussianMixture\n",
    "from sklearn.impute import SimpleImputer, KNNImputer\n",
    "from sklearn.experimental import enable_iterative_imputer  # noqa\n",
    "from sklearn.impute import IterativeImputer\n",
    "from sklearn.linear_model import BayesianRidge\n",
    "\n",
    "# 1) Load your data\n",
    "df = pd.read_csv('Accelerometer.csv', sep=';', dtype={'Time': float})"
   ]
  },
  {
   "cell_type": "code",
   "execution_count": 16,
   "id": "a58caa32-a672-4043-bb6a-fbde110a2330",
   "metadata": {},
   "outputs": [],
   "source": [
    "df['Time (s)'] = df['Time (s)'].astype(float)\n",
    "INTERVAL = 60\n",
    "\n",
    "df['interval_id'] = (df['Time (s)']//INTERVAL).astype(int)"
   ]
  },
  {
   "cell_type": "code",
   "execution_count": 42,
   "id": "6b5d639f-a0fb-4f7f-abee-7d1b61cc21fb",
   "metadata": {},
   "outputs": [],
   "source": [
    "from sklearn.model_selection import train_test_split\n",
    "\n",
    "# grab the unique interval IDs\n",
    "intervals = df[\"interval_id\"].unique()\n",
    "\n",
    "# e.g. 70% train, 30% test\n",
    "train_ids, test_ids = train_test_split(\n",
    "    intervals,\n",
    "    test_size=0.3,\n",
    "    random_state=42,\n",
    "    shuffle=True\n",
    ")\n",
    "\n",
    "# filter your DataFrame\n",
    "train_df = df[df[\"interval_id\"].isin(train_ids)].reset_index(drop=True)\n",
    "test_df  = df[df[\"interval_id\"].isin(test_ids)].reset_index(drop=True)\n"
   ]
  },
  {
   "cell_type": "code",
   "execution_count": 43,
   "id": "7b61167e-ba7b-42ac-9212-cb4dd3fca93c",
   "metadata": {},
   "outputs": [
    {
     "data": {
      "text/html": [
       "<div>\n",
       "<style scoped>\n",
       "    .dataframe tbody tr th:only-of-type {\n",
       "        vertical-align: middle;\n",
       "    }\n",
       "\n",
       "    .dataframe tbody tr th {\n",
       "        vertical-align: top;\n",
       "    }\n",
       "\n",
       "    .dataframe thead th {\n",
       "        text-align: right;\n",
       "    }\n",
       "</style>\n",
       "<table border=\"1\" class=\"dataframe\">\n",
       "  <thead>\n",
       "    <tr style=\"text-align: right;\">\n",
       "      <th></th>\n",
       "      <th>Time (s)</th>\n",
       "      <th>Acceleration x (m/s^2)</th>\n",
       "      <th>Acceleration y (m/s^2)</th>\n",
       "      <th>Acceleration z (m/s^2)</th>\n",
       "      <th>interval_id</th>\n",
       "    </tr>\n",
       "  </thead>\n",
       "  <tbody>\n",
       "    <tr>\n",
       "      <th>0</th>\n",
       "      <td>0.033942</td>\n",
       "      <td>3.951630</td>\n",
       "      <td>5.725733</td>\n",
       "      <td>9.480440</td>\n",
       "      <td>0</td>\n",
       "    </tr>\n",
       "    <tr>\n",
       "      <th>1</th>\n",
       "      <td>0.050608</td>\n",
       "      <td>3.889979</td>\n",
       "      <td>5.504270</td>\n",
       "      <td>10.036493</td>\n",
       "      <td>0</td>\n",
       "    </tr>\n",
       "    <tr>\n",
       "      <th>2</th>\n",
       "      <td>0.067274</td>\n",
       "      <td>3.925294</td>\n",
       "      <td>5.589264</td>\n",
       "      <td>10.332177</td>\n",
       "      <td>0</td>\n",
       "    </tr>\n",
       "    <tr>\n",
       "      <th>3</th>\n",
       "      <td>0.083940</td>\n",
       "      <td>4.361038</td>\n",
       "      <td>5.399523</td>\n",
       "      <td>10.157999</td>\n",
       "      <td>0</td>\n",
       "    </tr>\n",
       "    <tr>\n",
       "      <th>4</th>\n",
       "      <td>0.100606</td>\n",
       "      <td>4.596269</td>\n",
       "      <td>4.886566</td>\n",
       "      <td>9.112331</td>\n",
       "      <td>0</td>\n",
       "    </tr>\n",
       "  </tbody>\n",
       "</table>\n",
       "</div>"
      ],
      "text/plain": [
       "   Time (s)  Acceleration x (m/s^2)  Acceleration y (m/s^2)  \\\n",
       "0  0.033942                3.951630                5.725733   \n",
       "1  0.050608                3.889979                5.504270   \n",
       "2  0.067274                3.925294                5.589264   \n",
       "3  0.083940                4.361038                5.399523   \n",
       "4  0.100606                4.596269                4.886566   \n",
       "\n",
       "   Acceleration z (m/s^2)  interval_id  \n",
       "0                9.480440            0  \n",
       "1               10.036493            0  \n",
       "2               10.332177            0  \n",
       "3               10.157999            0  \n",
       "4                9.112331            0  "
      ]
     },
     "execution_count": 43,
     "metadata": {},
     "output_type": "execute_result"
    }
   ],
   "source": [
    "train_df.head()\n",
    "test_df.head()"
   ]
  },
  {
   "cell_type": "code",
   "execution_count": null,
   "id": "a6522cff-9154-4640-9227-dc7af6139a2d",
   "metadata": {},
   "outputs": [],
   "source": []
  }
 ],
 "metadata": {
  "kernelspec": {
   "display_name": "mlqs",
   "language": "python",
   "name": "venv"
  },
  "language_info": {
   "codemirror_mode": {
    "name": "ipython",
    "version": 3
   },
   "file_extension": ".py",
   "mimetype": "text/x-python",
   "name": "python",
   "nbconvert_exporter": "python",
   "pygments_lexer": "ipython3",
   "version": "3.11.10"
  }
 },
 "nbformat": 4,
 "nbformat_minor": 5
}
